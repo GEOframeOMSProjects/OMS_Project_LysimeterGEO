{
 "cells": [
  {
   "cell_type": "markdown",
   "metadata": {},
   "source": [
    "# _**2.  Create the grid for LysimeterGEO**_\n",
    "    -Author: Concetta D'Amato, Niccolò Tubini and Riccardo Rigon\n",
    "    -License: this work is licensed under a Creative Commons Attribution-NonCommercial 4.0 International License\n",
    "-----\n",
    "This code allows to create a mesh for 1D PDE problem:\n",
    "    - domain discretization\n",
    "    - setting parameters\n",
    "    - setting initial condition\n",
    "    \n",
    "All output data are stored in a NetCDF file.\n",
    "This file is one of the input file of your simulation.\n"
   ]
  },
  {
   "cell_type": "code",
   "execution_count": 7,
   "metadata": {},
   "outputs": [
    {
     "name": "stdout",
     "output_type": "stream",
     "text": [
      "The autoreload extension is already loaded. To reload it, use:\n",
      "  %reload_ext autoreload\n"
     ]
    }
   ],
   "source": [
    "%load_ext autoreload\n",
    "%autoreload 2\n",
    "\n",
    "import os\n",
    "import pandas as pd\n",
    "import matplotlib.style as style \n",
    "import numpy as np\n",
    "import matplotlib.pyplot as plt\n",
    "import matplotlib.dates as mdates\n",
    "from matplotlib import rc\n",
    "import matplotlib.style as style \n",
    "import xarray as xr\n",
    "import datetime\n",
    "plt.rc('xtick', labelsize=15)\n",
    "plt.rc('ytick', labelsize=15)\n",
    "plt.rc('axes', labelsize=15)\n",
    "plt.rc('axes', titlesize=20)\n",
    "plt.rc('legend', fontsize=15)\n",
    "plt.rc('lines', linewidth=0.2)\n",
    "plt.rc('savefig', dpi = 300)\n",
    "plt.rc('legend', title_fontsize = 20)\n",
    "plt.rc('legend', facecolor = 'inherit')\n",
    "font = {'family' : 'sans-serif'}\n",
    "plt.rc('font', **font)\n",
    "plt.rc('text', usetex=True)\n",
    "rc('text.latex')\n",
    "rc('font',**{'family':'serif','sans-serif':['Computer Modern Roman']})\n",
    "\n",
    "from WHETGEO1D_GridCreator import*\n",
    "from WHETGEO1D_toNetCDF import*\n",
    "\n",
    "import warnings\n",
    "warnings.filterwarnings('ignore')\n",
    "\n",
    "\n",
    "project_path = os.path.dirname(os.getcwd())"
   ]
  },
  {
   "cell_type": "markdown",
   "metadata": {},
   "source": [
    "\n",
    "## Define input:\n",
    "**grid_input_file_name**: name of the grid input file (.csv) with the local file path \n",
    "   \n",
    "> `/data/Grid_input/name.csv`\n",
    "\n",
    "**ic_input_file_name**: name of the initial condition input file (.csv) with the local file path \n",
    "> `/data/Grid_input/name.csv`\n",
    "\n",
    "**icRoot_input_file_name**: name of the  initial condition input file (.csv) with the local file path \n",
    "> `/data/Grid_input/name.csv`\n",
    "\n",
    "**parameter_input_file_name**: name of the parameter input file (.csv) with the local file path \n",
    ">`/data/Grid_input/name.csv`\n",
    "\n",
    "**dictionary_input_file_name**: name of the file (.csv) containing the dictionary for parameters name \n",
    ">`/data/Grid_input/name.csv`\n",
    "\n",
    "**grid_type**: string defining how to discretize the 1D domain. You can choose among:\n",
    "> `classical`\n",
    "\n",
    "> `exponential`\n",
    "\n",
    "> `mixed` \n",
    "\n",
    "\n",
    "**dz_min**: thickness of the first layer (for `exponential` and `mixed`)\n",
    "\n",
    "**dz_max**: larger thickness of the grid (for `mixed`)\n",
    "\n",
    "**b**: growth rate (for `exponential` and `mixed`)\n",
    "\n",
    "**psi_interp_model**: string defining the type of the 1D interpolation function used to define the initial condition for water suction \\[m\\]\n",
    "> https://docs.scipy.org/doc/scipy/reference/generated/scipy.interpolate.interp1d.html#scipy.interpolate.interp1d \n",
    "\n",
    "**T_interp_model**: string defining the type of the 1D interpolation function used to define the initial condition for temperature \\[K\\]\n",
    ">https://docs.scipy.org/doc/scipy/reference/generated/scipy.interpolate.interp1d.html#scipy.interpolate.interp1d \n",
    "\n",
    "**root_interp_model**: string defining the type of the 1D interpolation function used to define the initial condition for root density \\\\\n",
    "> https://docs.scipy.org/doc/scipy/reference/generated/scipy.interpolate.interp1d.html#scipy.interpolate.interp1d\n",
    "\n",
    "**water_ponding_0**: surface water ponding \\[m\\] at time $t=0$\n",
    "\n",
    "**T_water_ponding_0**: temperature \\[K\\] of surface water ponding at time $t=0$\n",
    "\n",
    "**etaR**: root depth  \n",
    "\n",
    "\n",
    "<br />\n",
    "<br />\n",
    "\n",
    "**output_file_name**: name of the output file (.nc) with the local file path\n",
    ">`/data/Grid_NetCDF/name.nc`\n",
    "\n",
    "**output_title**: string containing a title for the output, it is saved within the file\n",
    "\n",
    "**output_summary**: string containing a description for the output, it is saved within the file (global metadata)\n",
    "\n",
    "**output_date**: string containing the date of file creation, optionally\n",
    "\n",
    "**output_institution**: string containing the name of whom created the file, optionally\n",
    "\n"
   ]
  },
  {
   "cell_type": "code",
   "execution_count": 8,
   "metadata": {},
   "outputs": [],
   "source": [
    "grid_input_file_name = project_path + \"/data/Grid_input/grid.csv\"\n",
    "\n",
    "ic_input_file_name = project_path + \"/data/Grid_input/ic.csv\"\n",
    "\n",
    "icRoot_input_file_name = project_path + \"/data/Grid_input/icRoot.csv\"\n",
    "\n",
    "parameter_input_file_name = project_path + \"/data/Grid_input/RichardsLysimeter_VG.csv\"\n",
    "\n",
    "dictionary_input_file_name = project_path + \"/data/Grid_input/dictionary.csv\"\n",
    "\n",
    "\n",
    "grid_type =   'classical' #'classical' 'exponential' 'mixed'\n",
    "\n",
    "dz_min = 0.005\n",
    "dz_max = 0.1\n",
    "b = 0.1\n",
    "\n",
    "psi_interp_model = \"linear\"\n",
    "T_interp_model = \"linear\"\n",
    "root_interp_model = \"linear\"\n",
    "\n",
    "etaR = -2\n",
    "\n",
    "water_ponding_0 = -3\n",
    "T_water_ponding_0 = 273.15\n",
    "\n",
    "\n",
    "output_file_name =   project_path + \"/data/Grid_NetCDF/GridLysGEO.nc\"\n",
    "output_title = '''     '''\n",
    "output_summary = '''    '''\n",
    "\n",
    "output_date = ''\n",
    "output_institution = ''"
   ]
  },
  {
   "cell_type": "markdown",
   "metadata": {},
   "source": [
    "## Run"
   ]
  },
  {
   "cell_type": "code",
   "execution_count": 9,
   "metadata": {},
   "outputs": [
    {
     "name": "stdout",
     "output_type": "stream",
     "text": [
      "  Type  eta      K  equationStateID  parameterID\n",
      "0    L  0.0  100.0              1.0          1.0\n",
      "1    L -1.5  100.0              1.0          2.0\n",
      "2    L -3.0    NaN              NaN          NaN\n",
      "   eta  Psi0      T0\n",
      "0 -0.0  -3.0  273.15\n",
      "1 -3.0   0.0  273.15\n",
      "     eta   Root0\n",
      "0  -0.00  0.0000\n",
      "1  -0.30  0.0623\n",
      "2  -0.55  0.0745\n",
      "3  -0.65  0.0597\n",
      "4  -0.75  0.0509\n",
      "5  -0.85  0.0475\n",
      "6  -0.95  0.0560\n",
      "7  -1.25  0.0660\n",
      "8  -1.50  0.0855\n",
      "9  -1.80  0.0597\n",
      "10 -1.90  0.0555\n",
      "11 -2.00  0.0475\n",
      "\n",
      "    thetaS   thetaR  thetaWP  thetaFC        n  alpha  alphaSpecificStorage  \\\n",
      "0  0.36689  0.05385  0.08385  0.33689  2.54723  2.991                   0.0   \n",
      "1  0.48664  0.13335  0.16335  0.45664  1.34174  0.846                   0.0   \n",
      "2  0.46000  0.07000  0.97000  0.43200  1.65000  0.440                   0.0   \n",
      "\n",
      "   betaSpecificStorage            Ks  \n",
      "0                  0.0  5.405830e-05  \n",
      "1                  0.0  9.732840e-07  \n",
      "2                  0.0  5.173635e-06  \n",
      "\n",
      "\n",
      "***SUCCESS writing!  C:\\Users\\Concetta\\OMS\\OMS_Project_LysimeterGEO/data/Grid_NetCDF/GridLysGEO.nc\n"
     ]
    }
   ],
   "source": [
    "data_grid = pd.read_csv(grid_input_file_name)\n",
    "print(data_grid)\n",
    "\n",
    "data_ic = pd.read_csv(ic_input_file_name)\n",
    "print(data_ic)\n",
    "\n",
    "data_icRoot = pd.read_csv(icRoot_input_file_name)\n",
    "print(data_icRoot)\n",
    "\n",
    "data_parameter = pd.read_csv(parameter_input_file_name, comment='#')\n",
    "print()\n",
    "print(data_parameter)\n",
    "\n",
    "data_dictionary = pd.read_csv(dictionary_input_file_name)\n",
    "\n",
    "[KMAX, eta, eta_dual, space_delta, z, z_dual, control_volume]=grid1D(data_grid, dz_min, b, dz_max, grid_type, shallow_water=True)\n",
    "\n",
    "[psi_0, T_0, root_0] = set_initial_condition_lysimeter(data_ic, data_icRoot, eta, psi_interp_model, T_interp_model, root_interp_model, etaR, water_ponding_0=water_ponding_0, T_water_ponding_0=T_water_ponding_0, shallow_water=True, fill_value=\"extrapolate\")\n",
    "\n",
    "control_volume_index = calibration_point_index(data_grid, eta)\n",
    "\n",
    "[equation_state_ID, parameter_ID, theta_s, theta_r, theta_wp, theta_fc, par_1, par_2, par_3, par_4,\n",
    "par_5, alpha_ss, beta_ss, ks] = set_parameters_richards_lysimeter(data_grid, data_parameter, data_dictionary, KMAX, eta)\n",
    "\n",
    "write_grid_netCDF_richards_lysimeter(eta, eta_dual, z, z_dual, space_delta, control_volume, control_volume_index, psi_0, T_0, root_0, equation_state_ID, parameter_ID, KMAX,\n",
    "                  theta_s, theta_r, theta_wp, theta_fc, par_1, par_2, par_3, par_4, par_5, alpha_ss, beta_ss, ks,\n",
    "                  output_file_name, output_title, output_institution, output_summary, output_date, grid_input_file_name, parameter_input_file_name)"
   ]
  },
  {
   "cell_type": "code",
   "execution_count": 10,
   "metadata": {},
   "outputs": [],
   "source": [
    "#help(set_parameters_richards_lysimeter)"
   ]
  },
  {
   "cell_type": "code",
   "execution_count": 11,
   "metadata": {},
   "outputs": [
    {
     "data": {
      "image/png": "[encoded data removed]",
      "text/plain": [
       "<Figure size 576x577.778 with 1 Axes>"
      ]
     },
     "metadata": {
      "needs_background": "light"
     },
     "output_type": "display_data"
    }
   ],
   "source": [
    "fig = plt.figure(figsize=(8,13/1.62))\n",
    "plt.plot(data_icRoot.Root0,data_icRoot.eta, '.',label = 'Root data',markersize=20)\n",
    "plt.plot( root_0, eta, '.-', label='Root interpolation',linewidth=1.8)\n",
    "plt.xlabel('Root density Initial Condition')\n",
    "plt.title('Inizial condition of Root density in the soil column')\n",
    "plt.legend(bbox_to_anchor=(1.5,0.8))\n",
    "plt.grid(color='grey', linestyle='-', linewidth=0.3)"
   ]
  },
  {
   "cell_type": "code",
   "execution_count": null,
   "metadata": {},
   "outputs": [],
   "source": []
  },
  {
   "cell_type": "code",
   "execution_count": null,
   "metadata": {},
   "outputs": [],
   "source": []
  }
 ],
 "metadata": {
  "kernelspec": {
   "display_name": "Python 3",
   "language": "python",
   "name": "python3"
  },
  "language_info": {
   "codemirror_mode": {
    "name": "ipython",
    "version": 3
   },
   "file_extension": ".py",
   "mimetype": "text/x-python",
   "name": "python",
   "nbconvert_exporter": "python",
   "pygments_lexer": "ipython3",
   "version": "3.7.9"
  }
 },
 "nbformat": 4,
 "nbformat_minor": 2
}
